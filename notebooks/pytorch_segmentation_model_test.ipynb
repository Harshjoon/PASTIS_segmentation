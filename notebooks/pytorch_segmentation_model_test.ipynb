{
 "cells": [
  {
   "cell_type": "code",
   "execution_count": 1,
   "id": "6a971031",
   "metadata": {},
   "outputs": [],
   "source": [
    "import torch\n",
    "import segmentation_models_pytorch as smp"
   ]
  },
  {
   "cell_type": "code",
   "execution_count": 8,
   "id": "0c183046",
   "metadata": {},
   "outputs": [],
   "source": [
    "# functions\n",
    "\n",
    "def no_of_params(model):\n",
    "    sum_ = 0\n",
    "    for key, value in model.state_dict().items():\n",
    "        sum_ += int(torch.prod(torch.tensor(value.shape)))\n",
    "        #print(value, \"----------\", torch.prod(torch.tensor(value.shape)))\n",
    "    return int(sum_)"
   ]
  },
  {
   "cell_type": "code",
   "execution_count": 9,
   "id": "1f2adc64",
   "metadata": {},
   "outputs": [],
   "source": [
    "model = smp.Unet(\n",
    "    encoder_name=\"resnet34\",        # choose encoder, e.g. mobilenet_v2 or efficientnet-b7\n",
    "    encoder_weights=\"imagenet\",     # use `imagenet` pre-trained weights for encoder initialization\n",
    "    in_channels=1,                  # model input channels (1 for gray-scale images, 3 for RGB, etc.)\n",
    "    classes=3,                      # model output channels (number of classes in your dataset)\n",
    ")"
   ]
  },
  {
   "cell_type": "code",
   "execution_count": 10,
   "id": "c9b763c7",
   "metadata": {},
   "outputs": [
    {
     "data": {
      "text/plain": [
       "24449441"
      ]
     },
     "execution_count": 10,
     "metadata": {},
     "output_type": "execute_result"
    }
   ],
   "source": [
    "no_of_params(model)"
   ]
  },
  {
   "cell_type": "code",
   "execution_count": null,
   "id": "cccdf09f",
   "metadata": {},
   "outputs": [],
   "source": [
    "\"\"\"\n",
    "MODELS\n",
    "- DeepLabV3\n",
    "- DeepLabV3Plus\n",
    "- FPN\n",
    "- Linknet\n",
    "- MAnet\n",
    "- PAN\n",
    "- PSPNet\n",
    "- Unet\n",
    "- UnetPlusPlus\n",
    "\"\"\""
   ]
  },
  {
   "cell_type": "code",
   "execution_count": 12,
   "id": "1276ad78",
   "metadata": {},
   "outputs": [
    {
     "data": {
      "text/plain": [
       "['TimmUniversalEncoder',\n",
       " '__builtins__',\n",
       " '__cached__',\n",
       " '__doc__',\n",
       " '__file__',\n",
       " '__loader__',\n",
       " '__name__',\n",
       " '__package__',\n",
       " '__path__',\n",
       " '__spec__',\n",
       " '_base',\n",
       " '_preprocessing',\n",
       " '_utils',\n",
       " 'densenet',\n",
       " 'densenet_encoders',\n",
       " 'dpn',\n",
       " 'dpn_encoders',\n",
       " 'efficient_net_encoders',\n",
       " 'efficientnet',\n",
       " 'encoders',\n",
       " 'functools',\n",
       " 'get_encoder',\n",
       " 'get_encoder_names',\n",
       " 'get_preprocessing_fn',\n",
       " 'get_preprocessing_params',\n",
       " 'inceptionresnetv2',\n",
       " 'inceptionresnetv2_encoders',\n",
       " 'inceptionv4',\n",
       " 'inceptionv4_encoders',\n",
       " 'mix_transformer',\n",
       " 'mix_transformer_encoders',\n",
       " 'mobilenet',\n",
       " 'mobilenet_encoders',\n",
       " 'mobileone',\n",
       " 'mobileone_encoders',\n",
       " 'model_zoo',\n",
       " 'preprocess_input',\n",
       " 'resnet',\n",
       " 'resnet_encoders',\n",
       " 'senet',\n",
       " 'senet_encoders',\n",
       " 'timm',\n",
       " 'timm_efficientnet',\n",
       " 'timm_efficientnet_encoders',\n",
       " 'timm_gernet',\n",
       " 'timm_gernet_encoders',\n",
       " 'timm_mobilenetv3',\n",
       " 'timm_mobilenetv3_encoders',\n",
       " 'timm_regnet',\n",
       " 'timm_regnet_encoders',\n",
       " 'timm_res2net',\n",
       " 'timm_res2net_encoders',\n",
       " 'timm_resnest',\n",
       " 'timm_resnest_encoders',\n",
       " 'timm_sknet',\n",
       " 'timm_sknet_encoders',\n",
       " 'timm_universal',\n",
       " 'vgg',\n",
       " 'vgg_encoders',\n",
       " 'xception',\n",
       " 'xception_encoders']"
      ]
     },
     "execution_count": 12,
     "metadata": {},
     "output_type": "execute_result"
    }
   ],
   "source": [
    "dir(smp.encoders)"
   ]
  },
  {
   "cell_type": "code",
   "execution_count": null,
   "id": "74caf2cd",
   "metadata": {},
   "outputs": [],
   "source": []
  }
 ],
 "metadata": {
  "kernelspec": {
   "display_name": "Python 3 (ipykernel)",
   "language": "python",
   "name": "python3"
  },
  "language_info": {
   "codemirror_mode": {
    "name": "ipython",
    "version": 3
   },
   "file_extension": ".py",
   "mimetype": "text/x-python",
   "name": "python",
   "nbconvert_exporter": "python",
   "pygments_lexer": "ipython3",
   "version": "3.9.13"
  }
 },
 "nbformat": 4,
 "nbformat_minor": 5
}
